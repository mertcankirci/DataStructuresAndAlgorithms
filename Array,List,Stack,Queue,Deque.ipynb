{
 "cells": [
  {
   "cell_type": "code",
   "execution_count": null,
   "metadata": {},
   "outputs": [],
   "source": [
    "#TODO: To communicate with system we're importing sys \n",
    "#Trying to figure out how pytgon communicates with system when a list is extending \n",
    "import sys \n",
    "\n",
    "n = 30\n",
    "myDynamicArray = []\n",
    "\n",
    "for i in range(n):\n",
    "    myLength = len(myDynamicArray)\n",
    "    myByte = sys.getsizeof(myDynamicArray)\n",
    "    \n",
    "    print(F\"Length: {myLength}, Byte: {myByte}\")\n",
    "    \n",
    "    myDynamicArray.append(n)\n",
    "    "
   ]
  },
  {
   "cell_type": "markdown",
   "metadata": {},
   "source": [
    "We're going to solve \"Containts Duplicate\" problem.You can find it in leetcode.com or hackerrank.com . https://leetcode.com/problems/contains-duplicate/ (Microsoft)"
   ]
  },
  {
   "cell_type": "code",
   "execution_count": 18,
   "metadata": {},
   "outputs": [
    {
     "name": "stdout",
     "output_type": "stream",
     "text": [
      "True\n"
     ]
    }
   ],
   "source": [
    "\n",
    "myList = [1,2,3,4,5,6,7,7,8]\n",
    "\n",
    "def solution():\n",
    "    return len(myList) != len(set(myList))\n",
    "\n",
    "print(solution())"
   ]
  },
  {
   "cell_type": "markdown",
   "metadata": {},
   "source": [
    "We're going to solve \"Single Number\" problem.You can find it in leetcode.com or hackerrank.com . https://leetcode.com/problems/single-number/"
   ]
  },
  {
   "cell_type": "code",
   "execution_count": 29,
   "metadata": {},
   "outputs": [
    {
     "data": {
      "text/plain": [
       "1"
      ]
     },
     "execution_count": 29,
     "metadata": {},
     "output_type": "execute_result"
    }
   ],
   "source": [
    "#Bit manipultion \n",
    "\n",
    "def singleNumber():\n",
    "    list = [1,1,2,23]\n",
    "    \n",
    "    result = 0\n",
    "    \n",
    "    for num in list:\n",
    "        result = num ^ result # ^ means XOR gate\n",
    "        return result\n",
    "\n",
    "singleNumber() "
   ]
  },
  {
   "cell_type": "markdown",
   "metadata": {},
   "source": [
    "We're going to solve \"Majorit Element\" problem.You can find it in leetcode.com or hackerrank.com . https://leetcode.com/problems/majority-element/"
   ]
  },
  {
   "cell_type": "code",
   "execution_count": 3,
   "metadata": {},
   "outputs": [
    {
     "name": "stdout",
     "output_type": "stream",
     "text": [
      "2\n"
     ]
    }
   ],
   "source": [
    "list = [1,1,2,2,1,1,1,2,2,2,2,2,2,2,1,1,1,1,1,2,2,2,2,2,2,2]\n",
    "\n",
    "def booyerMore(): \n",
    "    count = 0\n",
    "    result = 0\n",
    "    \n",
    "    for num in list:\n",
    "        if count == 0:\n",
    "            result = num\n",
    "        count += (1 if num == result else -1)\n",
    "        \n",
    "    return result\n",
    "\n",
    "print(booyerMore())"
   ]
  }
 ],
 "metadata": {
  "kernelspec": {
   "display_name": "Python 3.10.9 64-bit",
   "language": "python",
   "name": "python3"
  },
  "language_info": {
   "codemirror_mode": {
    "name": "ipython",
    "version": 3
   },
   "file_extension": ".py",
   "mimetype": "text/x-python",
   "name": "python",
   "nbconvert_exporter": "python",
   "pygments_lexer": "ipython3",
   "version": "3.10.9"
  },
  "orig_nbformat": 4,
  "vscode": {
   "interpreter": {
    "hash": "aee8b7b246df8f9039afb4144a1f6fd8d2ca17a180786b69acc140d282b71a49"
   }
  }
 },
 "nbformat": 4,
 "nbformat_minor": 2
}

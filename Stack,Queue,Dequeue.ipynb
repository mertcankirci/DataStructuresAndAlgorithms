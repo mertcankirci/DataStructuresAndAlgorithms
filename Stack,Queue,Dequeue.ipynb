{
 "cells": [
  {
   "cell_type": "markdown",
   "metadata": {},
   "source": [
    "Stack"
   ]
  },
  {
   "cell_type": "code",
   "execution_count": null,
   "metadata": {},
   "outputs": [],
   "source": [
    "class Stack():\n",
    "    def __init__(self) -> None:\n",
    "        self.elements = []\n",
    "    def isEmpty(self):\n",
    "        return self.elements == []\n",
    "    def push(self, int):\n",
    "        self.elements.append(int)\n",
    "    def pop(self):\n",
    "        self.elements.pop()\n",
    "    def showLast(self):\n",
    "        return self.elements[-1]\n",
    "    def size(self):\n",
    "        return len(self.elements)\n",
    "    "
   ]
  },
  {
   "cell_type": "markdown",
   "metadata": {},
   "source": [
    "Queue"
   ]
  },
  {
   "cell_type": "code",
   "execution_count": null,
   "metadata": {},
   "outputs": [],
   "source": [
    "class Queue():\n",
    "    def __init__(self) -> None:\n",
    "        self.elements = []\n",
    "    def isEmpty(self):\n",
    "        return self.elements == []\n",
    "    def enqueue(self, int):\n",
    "        self.elements.insert(0,int) # insert at the beginning in queue\n",
    "    def dequeue(self):\n",
    "        self.elements.pop() # remove from the end in queue\n",
    "    def size(self):\n",
    "        return len(self.elements)\n",
    "        "
   ]
  },
  {
   "cell_type": "markdown",
   "metadata": {},
   "source": [
    "Dequeue"
   ]
  },
  {
   "cell_type": "code",
   "execution_count": null,
   "metadata": {},
   "outputs": [],
   "source": [
    "class Deque():\n",
    "    def __init__(self) -> None:\n",
    "        self.elements = []\n",
    "    def isEmpty(self):\n",
    "        return self.elements == []\n",
    "    def addLeft(self, element):\n",
    "        self.elements.insert(0,element)\n",
    "    def addRight(self, element):\n",
    "        self.elements.append(element)\n",
    "    def removeLeft(self):\n",
    "        self.elements.pop(0)\n",
    "    def removeRight(self):\n",
    "        self.elements.pop()\n",
    "    def size(self):\n",
    "        return len(self.elements)\n",
    "    \n",
    "    "
   ]
  },
  {
   "cell_type": "markdown",
   "metadata": {},
   "source": [
    "Implement stack using queue "
   ]
  },
  {
   "cell_type": "code",
   "execution_count": null,
   "metadata": {},
   "outputs": [],
   "source": [
    "class Stack():\n",
    "    def __init__(self) -> None:\n",
    "        self.queue = Deque()\n",
    "    def push(self, element):\n",
    "         self.queue.append(element)\n",
    "    def top(self) -> int:\n",
    "        return self.queue[-1]\n",
    "    def isEmpty(self) -> bool:\n",
    "        return self.queue == []\n",
    "    def pop(self) -> int:\n",
    "        for i in range(len(self.queue) - 1):\n",
    "            self.queue.append(self.queue.popLeft())\n",
    "        return self.queue.popLeft()\n",
    "        "
   ]
  }
 ],
 "metadata": {
  "kernelspec": {
   "display_name": "Python 3.10.9 64-bit",
   "language": "python",
   "name": "python3"
  },
  "language_info": {
   "name": "python",
   "version": "3.10.9"
  },
  "orig_nbformat": 4,
  "vscode": {
   "interpreter": {
    "hash": "aee8b7b246df8f9039afb4144a1f6fd8d2ca17a180786b69acc140d282b71a49"
   }
  }
 },
 "nbformat": 4,
 "nbformat_minor": 2
}
